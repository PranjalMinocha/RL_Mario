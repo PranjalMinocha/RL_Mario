{
  "nbformat": 4,
  "nbformat_minor": 0,
  "metadata": {
    "colab": {
      "name": "Untitled2.ipynb",
      "provenance": [],
      "mount_file_id": "1Zx5KUz0Z-QvERebWVb-e9odLXctjTWSJ",
      "authorship_tag": "ABX9TyN3cYvxxfewWeN0JLdfE6Z7",
      "include_colab_link": true
    },
    "kernelspec": {
      "name": "python3",
      "display_name": "Python 3"
    },
    "language_info": {
      "name": "python"
    },
    "gpuClass": "standard"
  },
  "cells": [
    {
      "cell_type": "markdown",
      "metadata": {
        "id": "view-in-github",
        "colab_type": "text"
      },
      "source": [
        "<a href=\"https://colab.research.google.com/github/PranjalMinocha/RL_Mario/blob/main/Deep%20Q-Learning.ipynb\" target=\"_parent\"><img src=\"https://colab.research.google.com/assets/colab-badge.svg\" alt=\"Open In Colab\"/></a>"
      ]
    },
    {
      "cell_type": "code",
      "source": [
        "# Code and approach by Andrew Grebenisan, https://blog.paperspace.com/author/andrew/ \n"
        "!pip install nes-py==0.2.6\n",
        "!pip install gym-super-mario-bros"
      ],
      "metadata": {
        "id": "FsHh37r2Xe5v"
      },
      "execution_count": null,
      "outputs": []
    },
    {
      "cell_type": "code",
      "source": [
        "import torch\n",
        "import torch.nn as nn\n",
        "import random\n",
        "import gym_super_mario_bros\n",
        "from nes_py.wrappers import JoypadSpace\n",
        "import pickle \n",
        "from gym_super_mario_bros.actions import RIGHT_ONLY\n",
        "import gym\n",
        "import numpy as np\n",
        "import collections \n",
        "import cv2\n",
        "import matplotlib.pyplot as plt\n",
        "import pylab as pl\n",
        "from IPython import display\n",
        "import time\n",
        "%matplotlib inline"
      ],
      "metadata": {
        "id": "PGJMDXQ5rmG5"
      },
      "execution_count": 2,
      "outputs": []
    },
    {
      "cell_type": "code",
      "source": [
        "class MaxAndSkipEnv(gym.Wrapper):\n",
        "    def __init__(self, env=None, skip=4):\n",
        "        \"\"\"Return only every `skip`-th frame\"\"\"\n",
        "        super(MaxAndSkipEnv, self).__init__(env)\n",
        "        # most recent raw observations (for max pooling across time steps)\n",
        "        self._obs_buffer = collections.deque(maxlen=2)\n",
        "        self._skip = skip\n",
        "\n",
        "    def step(self, action):\n",
        "        total_reward = 0.0\n",
        "        done = None\n",
        "        for _ in range(self._skip):\n",
        "            obs, reward, done, info = self.env.step(action)\n",
        "            self._obs_buffer.append(obs)\n",
        "            total_reward += reward\n",
        "            if done:\n",
        "                break\n",
        "        max_frame = np.max(np.stack(self._obs_buffer), axis=0)\n",
        "        return max_frame, total_reward, done, info\n",
        "\n",
        "    def reset(self):\n",
        "        \"\"\"Clear past frame buffer and init to first obs\"\"\"\n",
        "        self._obs_buffer.clear()\n",
        "        obs = self.env.reset()\n",
        "        self._obs_buffer.append(obs)\n",
        "        return obs\n",
        "\n",
        "\n",
        "class ProcessFrame84(gym.ObservationWrapper):\n",
        "    \"\"\"\n",
        "    Downsamples image to 84x84\n",
        "    Greyscales image\n",
        "\n",
        "    Returns numpy array\n",
        "    \"\"\"\n",
        "    def __init__(self, env=None):\n",
        "        super(ProcessFrame84, self).__init__(env)\n",
        "        self.observation_space = gym.spaces.Box(low=0, high=255, shape=(84, 84, 1), dtype=np.uint8)\n",
        "\n",
        "    def observation(self, obs):\n",
        "        return ProcessFrame84.process(obs)\n",
        "\n",
        "    @staticmethod\n",
        "    def process(frame):\n",
        "        if frame.size == 240 * 256 * 3:\n",
        "            img = np.reshape(frame, [240, 256, 3]).astype(np.float32)\n",
        "        else:\n",
        "            assert False, \"Unknown resolution.\"\n",
        "        img = img[:, :, 0] * 0.299 + img[:, :, 1] * 0.587 + img[:, :, 2] * 0.114\n",
        "        resized_screen = cv2.resize(img, (84, 110), interpolation=cv2.INTER_AREA)\n",
        "        x_t = resized_screen[18:102, :]\n",
        "        x_t = np.reshape(x_t, [84, 84, 1])\n",
        "        return x_t.astype(np.uint8)\n",
        "\n",
        "\n",
        "class ImageToPyTorch(gym.ObservationWrapper):\n",
        "    def __init__(self, env):\n",
        "        super(ImageToPyTorch, self).__init__(env)\n",
        "        old_shape = self.observation_space.shape\n",
        "        self.observation_space = gym.spaces.Box(low=0.0, high=1.0, shape=(old_shape[-1], old_shape[0], old_shape[1]),\n",
        "                                                dtype=np.float32)\n",
        "\n",
        "    def observation(self, observation):\n",
        "        return np.moveaxis(observation, 2, 0)\n",
        "\n",
        "\n",
        "class ScaledFloatFrame(gym.ObservationWrapper):\n",
        "    \"\"\"Normalize pixel values in frame --> 0 to 1\"\"\"\n",
        "    def observation(self, obs):\n",
        "        return np.array(obs).astype(np.float32) / 255.0\n",
        "\n",
        "\n",
        "class BufferWrapper(gym.ObservationWrapper):\n",
        "    def __init__(self, env, n_steps, dtype=np.float32):\n",
        "        super(BufferWrapper, self).__init__(env)\n",
        "        self.dtype = dtype\n",
        "        old_space = env.observation_space\n",
        "        self.observation_space = gym.spaces.Box(old_space.low.repeat(n_steps, axis=0),\n",
        "                                                old_space.high.repeat(n_steps, axis=0), dtype=dtype)\n",
        "\n",
        "    def reset(self):\n",
        "        self.buffer = np.zeros_like(self.observation_space.low, dtype=self.dtype)\n",
        "        return self.observation(self.env.reset())\n",
        "\n",
        "    def observation(self, observation):\n",
        "        self.buffer[:-1] = self.buffer[1:]\n",
        "        self.buffer[-1] = observation\n",
        "        return self.buffer\n",
        "\n",
        "\n",
        "def make_env(env):\n",
        "    env = MaxAndSkipEnv(env)\n",
        "    env = ProcessFrame84(env)\n",
        "    env = ImageToPyTorch(env)\n",
        "    env = BufferWrapper(env, 4)\n",
        "    env = ScaledFloatFrame(env)\n",
        "    return JoypadSpace(env, RIGHT_ONLY)"
      ],
      "metadata": {
        "id": "zHnYkIABrns4"
      },
      "execution_count": 3,
      "outputs": []
    },
    {
      "cell_type": "code",
      "source": [
        "def show_state(env, ep=0, info=\"\"):\n",
        "    plt.figure(3)\n",
        "    plt.clf()\n",
        "    plt.imshow(env.render(mode='rgb_array'))\n",
        "    plt.title(\"Episode: %d %s\" % (ep, info))\n",
        "    plt.axis('off')\n",
        "\n",
        "    display.display(plt.gcf())\n",
        "    display.clear_output(wait=True)\n",
        "    time.sleep(0.1)\n",
        "\n",
        "    # display.clear_output(wait=True)\n",
        "    # display.display(pl.gcf())"
      ],
      "metadata": {
        "id": "Sf67ePUaro9o"
      },
      "execution_count": 4,
      "outputs": []
    },
    {
      "cell_type": "code",
      "source": [
        "class DQNSolver(nn.Module):\n",
        "\n",
        "    def __init__(self, input_shape, n_actions):\n",
        "        super(DQNSolver, self).__init__()\n",
        "        self.conv = nn.Sequential(\n",
        "            nn.Conv2d(input_shape[0], 32, kernel_size=8, stride=4),\n",
        "            nn.ReLU(),\n",
        "            nn.Conv2d(32, 64, kernel_size=4, stride=2),\n",
        "            nn.ReLU(),\n",
        "            nn.Conv2d(64, 64, kernel_size=3, stride=1),\n",
        "            nn.ReLU()\n",
        "        )\n",
        "\n",
        "        conv_out_size = self._get_conv_out(input_shape)\n",
        "        self.fc = nn.Sequential(\n",
        "            nn.Linear(conv_out_size, 512),\n",
        "            nn.ReLU(),\n",
        "            nn.Linear(512, n_actions)\n",
        "        )\n",
        "\n",
        "    def _get_conv_out(self, shape):\n",
        "        o = self.conv(torch.zeros(1, *shape))\n",
        "        return int(np.prod(o.size()))\n",
        "\n",
        "    def forward(self, x):\n",
        "        conv_out = self.conv(x).view(x.size()[0], -1)\n",
        "        return self.fc(conv_out)"
      ],
      "metadata": {
        "id": "qpvav03krqJ4"
      },
      "execution_count": 5,
      "outputs": []
    },
    {
      "cell_type": "code",
      "source": [
        "class DQNAgent:\n",
        "\n",
        "    def __init__(self, state_space, action_space, max_memory_size, batch_size, gamma, lr, exploration_max, exploration_min, exploration_decay):\n",
        "\n",
        "        # Define DQN Layers\n",
        "        self.state_space = state_space\n",
        "        self.action_space = action_space\n",
        "        \"\"\"\n",
        "          Two conv-nets used in place of 2 Q-tables\n",
        "        \"\"\"\n",
        "        self.local_net = DQNSolver(state_space, action_space).to('cuda')\n",
        "        self.target_net = DQNSolver(state_space, action_space).to('cuda') \n",
        "\n",
        "        self.optimizer = torch.optim.Adam(self.local_net.parameters(), lr=lr)\n",
        "        self.copy = 5000  # Copy the local model weights into the target network every 5000 steps\n",
        "        self.step = 0\n",
        "\n",
        "        # Create memory\n",
        "        self.max_memory_size = max_memory_size\n",
        "        \n",
        "        self.STATE_MEM = torch.zeros(max_memory_size, *self.state_space)\n",
        "        self.ACTION_MEM = torch.zeros(max_memory_size, 1)\n",
        "        self.REWARD_MEM = torch.zeros(max_memory_size, 1)\n",
        "        self.STATE2_MEM = torch.zeros(max_memory_size, *self.state_space)\n",
        "        self.DONE_MEM = torch.zeros(max_memory_size, 1)\n",
        "        self.ending_position = 0\n",
        "        self.num_in_queue = 0\n",
        "        \n",
        "        self.memory_sample_size = batch_size\n",
        "        \n",
        "        # Learning parameters\n",
        "        self.gamma = gamma\n",
        "        self.l1 = nn.SmoothL1Loss().to('cuda') # Also known as Huber loss\n",
        "        self.exploration_max = exploration_max\n",
        "        self.exploration_rate = exploration_max\n",
        "        self.exploration_min = exploration_min\n",
        "        self.exploration_decay = exploration_decay\n",
        "\n",
        "    def remember(self, state, action, reward, state2, done):\n",
        "        self.STATE_MEM[self.ending_position] = state.float()\n",
        "        self.ACTION_MEM[self.ending_position] = action.float()\n",
        "        self.REWARD_MEM[self.ending_position] = reward.float()\n",
        "        self.STATE2_MEM[self.ending_position] = state2.float()\n",
        "        self.DONE_MEM[self.ending_position] = done.float()\n",
        "        self.ending_position = (self.ending_position + 1) % self.max_memory_size  # FIFO tensor\n",
        "        self.num_in_queue = min(self.num_in_queue + 1, self.max_memory_size)\n",
        "        \n",
        "    def recall(self):\n",
        "        # Randomly sample 'batch size' experiences\n",
        "        idx = random.choices(range(self.num_in_queue), k=self.memory_sample_size)\n",
        "        \n",
        "        STATE = self.STATE_MEM[idx]\n",
        "        ACTION = self.ACTION_MEM[idx]\n",
        "        REWARD = self.REWARD_MEM[idx]\n",
        "        STATE2 = self.STATE2_MEM[idx]\n",
        "        DONE = self.DONE_MEM[idx]\n",
        "        \n",
        "        return STATE, ACTION, REWARD, STATE2, DONE\n",
        "\n",
        "    def act(self, state):\n",
        "        # Epsilon-greedy action\n",
        "        self.step += 1\n",
        "        if random.random() < self.exploration_rate:  \n",
        "            return torch.tensor([[random.randrange(self.action_space)]])\n",
        "        # Local net is used for the policy\n",
        "        return torch.argmax(self.local_net(state.to('cuda'))).unsqueeze(0).unsqueeze(0).cpu()\n",
        "\n",
        "    def copy_model(self):\n",
        "        # Copy local net weights into target net\n",
        "        self.target_net.load_state_dict(self.local_net.state_dict())\n",
        "    \n",
        "    def experience_replay(self):\n",
        "        if self.step % self.copy == 0:\n",
        "            self.copy_model()\n",
        "\n",
        "        if self.memory_sample_size > self.num_in_queue:\n",
        "            return\n",
        "\n",
        "        STATE, ACTION, REWARD, STATE2, DONE = self.recall()\n",
        "        STATE = STATE.to('cuda')\n",
        "        ACTION = ACTION.to('cuda')\n",
        "        REWARD = REWARD.to('cuda')\n",
        "        STATE2 = STATE2.to('cuda')\n",
        "        DONE = DONE.to('cuda')\n",
        "        \n",
        "        self.optimizer.zero_grad()\n",
        "        # Double Q-Learning target is Q*(S, A) <- r + γ max_a Q_target(S', a)\n",
        "        target = REWARD + torch.mul((self.gamma * self.target_net(STATE2).max(1).values.unsqueeze(1)), 1 - DONE)\n",
        "\n",
        "        current = self.local_net(STATE).gather(1, ACTION.long()) # Local net approximation of Q-value\n",
        "        \n",
        "        loss = self.l1(current, target)\n",
        "        loss.backward() # Compute gradients\n",
        "        self.optimizer.step() # Backpropagate error\n",
        "\n",
        "        self.exploration_rate *= self.exploration_decay\n",
        "        \n",
        "        # Makes sure that exploration rate is always at least 'exploration min'\n",
        "        self.exploration_rate = max(self.exploration_rate, self.exploration_min)"
      ],
      "metadata": {
        "id": "NAUtPrgMrr3l"
      },
      "execution_count": 6,
      "outputs": []
    },
    {
      "cell_type": "code",
      "source": [
        "def vectorize_action(action, action_space):\n",
        "    # Given a scalar action, return a one-hot encoded action\n",
        "    \n",
        "    return [0 for _ in range(action)] + [1] + [0 for _ in range(action + 1, action_space)]"
      ],
      "metadata": {
        "id": "UwBU_75IrtPE"
      },
      "execution_count": 7,
      "outputs": []
    },
    {
      "cell_type": "code",
      "source": [
        "env = gym_super_mario_bros.make('SuperMarioBros-1-1-v0')\n",
        "env = make_env(env)  # Wraps the environment so that frames are grayscale \n",
        "observation_space = env.observation_space.shape\n",
        "action_space = env.action_space.n\n",
        "agent = DQNAgent(state_space=observation_space,\n",
        "                 action_space=action_space,\n",
        "                 max_memory_size=30000,\n",
        "                 batch_size=32,\n",
        "                 gamma=0.90,\n",
        "                 lr=0.00025,\n",
        "                 exploration_max=1.0,\n",
        "                 exploration_min=0.02,\n",
        "                 exploration_decay=0.99)\n",
        "    \n",
        "num_episodes = 3000\n",
        "env.reset()\n",
        "total_rewards = []\n",
        "    \n",
        "for ep_num in range(num_episodes):\n",
        "    state = env.reset()\n",
        "    state = torch.Tensor([state])\n",
        "    total_reward = 0\n",
        "    steps = 0\n",
        "    while True:\n",
        "        action = agent.act(state)\n",
        "        steps += 1\n",
        "            \n",
        "        state_next, reward, terminal, info = env.step(int(action[0]))\n",
        "        total_reward += reward\n",
        "        state_next = torch.Tensor([state_next])\n",
        "        reward = torch.tensor([reward]).unsqueeze(0)\n",
        "            \n",
        "        terminal = torch.tensor([int(terminal)]).unsqueeze(0)\n",
        "            \n",
        "        agent.remember(state, action, reward, state_next, terminal)\n",
        "        agent.experience_replay()\n",
        "            \n",
        "        state = state_next\n",
        "        if terminal:\n",
        "            break\n",
        "                \n",
        "    total_rewards.append(total_reward)\n",
        "    print(\"Total reward after episode {} is {}\".format(ep_num + 1, total_rewards[-1]))\n",
        "    \n",
        "    \n",
        "with open(\"ending_position.pkl\", \"wb\") as f:\n",
        "    pickle.dump(agent.ending_position, f)\n",
        "with open(\"num_in_queue.pkl\", \"wb\") as f:\n",
        "    pickle.dump(agent.num_in_queue, f)\n",
        "with open(\"/content/drive/MyDrive/Classroom/total_rewards.pkl\", \"wb\") as f:\n",
        "    pickle.dump(total_rewards, f)\n",
        "    \n",
        "torch.save(agent.local_net.state_dict(), \"dq1.pt\")\n",
        "torch.save(agent.target_net.state_dict(), \"dq2.pt\")\n",
        "          \n",
        "torch.save(agent.STATE_MEM,  \"STATE_MEM.pt\")\n",
        "torch.save(agent.ACTION_MEM, \"ACTION_MEM.pt\")\n",
        "torch.save(agent.REWARD_MEM, \"REWARD_MEM.pt\")\n",
        "torch.save(agent.STATE2_MEM, \"STATE2_MEM.pt\")\n",
        "torch.save(agent.DONE_MEM,   \"DONE_MEM.pt\")\n",
        "    \n",
        "env.close()"
      ],
      "metadata": {
        "id": "RiDuJBLZr1mc"
      },
      "execution_count": null,
      "outputs": []
    },
    {
      "cell_type": "code",
      "source": [
        "import pickle\n",
        "import matplotlib.pyplot as plt\n",
        "import numpy as np"
      ],
      "metadata": {
        "id": "Gz4Bgx6er3AE"
      },
      "execution_count": 1,
      "outputs": []
    },
    {
      "cell_type": "code",
      "source": [
        "rewards = []\n",
        "with (open(\"/content/drive/MyDrive/Classroom/total_rewards.pkl\", \"rb\")) as openfile:\n",
        "    while True:\n",
        "        try:\n",
        "            rewards = pickle.load(openfile)\n",
        "        except EOFError:\n",
        "            break"
      ],
      "metadata": {
        "id": "Q4Cz8SUm-86B"
      },
      "execution_count": 2,
      "outputs": []
    },
    {
      "cell_type": "code",
      "source": [
        "plt.title(\"Episodes trained vs. Average Rewards (per 100 eps)\")\n",
        "plt.plot(np.convolve(rewards, np.ones((100,))/100, mode=\"valid\").tolist())\n",
        "plt.show()"
      ],
      "metadata": {
        "colab": {
          "base_uri": "https://localhost:8080/",
          "height": 281
        },
        "id": "W9_juCdw_fcx",
        "outputId": "a055e29c-990c-48ac-cc26-e67e2ba04541"
      },
      "execution_count": 3,
      "outputs": [
        {
          "output_type": "display_data",
          "data": {
            "text/plain": [
              "<Figure size 432x288 with 1 Axes>"
            ],
            "image/png": "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\n"
          },
          "metadata": {
            "needs_background": "light"
          }
        }
      ]
    },
    {
      "cell_type": "code",
      "source": [
        ""
      ],
      "metadata": {
        "id": "b4CkjR90xsUw"
      },
      "execution_count": null,
      "outputs": []
    }
  ]
}
