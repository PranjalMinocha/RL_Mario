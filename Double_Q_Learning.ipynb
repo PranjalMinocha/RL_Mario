{
  "nbformat": 4,
  "nbformat_minor": 0,
  "metadata": {
    "colab": {
      "name": "Double Q-Learning",
      "provenance": [],
      "mount_file_id": "1v_A3woRwQ9Nl6GReW2aaunRjH-A5Cc2W",
      "authorship_tag": "ABX9TyPX83hbQlkSTaIghsS2ik2E",
      "include_colab_link": true
    },
    "kernelspec": {
      "name": "python3",
      "display_name": "Python 3"
    },
    "language_info": {
      "name": "python"
    },
    "gpuClass": "standard"
  },
  "cells": [
    {
      "cell_type": "markdown",
      "metadata": {
        "id": "view-in-github",
        "colab_type": "text"
      },
      "source": [
        "<a href=\"https://colab.research.google.com/github/PranjalMinocha/RL_Mario/blob/main/Double_Q_Learning.ipynb\" target=\"_parent\"><img src=\"https://colab.research.google.com/assets/colab-badge.svg\" alt=\"Open In Colab\"/></a>"
      ]
    },
    {
      "cell_type": "code",
      "execution_count": null,
      "metadata": {
        "id": "xyP8v4gLoGbY"
      },
      "outputs": [],
      "source": [
        "!pip install nes-py==0.2.6\n",
        "!pip install gym-super-mario-bros"
      ]
    },
    {
      "cell_type": "code",
      "source": [
        "import torch\n",
        "import torch.nn as nn\n",
        "import random\n",
        "import gym_super_mario_bros\n",
        "from nes_py.wrappers import JoypadSpace\n",
        "from tqdm import tqdm\n",
        "import pickle \n",
        "from gym_super_mario_bros.actions import RIGHT_ONLY\n",
        "import gym\n",
        "import numpy as np\n",
        "import collections \n",
        "import cv2\n",
        "import matplotlib.pyplot as plt\n",
        "import pylab as pl\n",
        "from IPython import display\n",
        "import time\n",
        "%matplotlib inline"
      ],
      "metadata": {
        "id": "WTFhbc9sohgO"
      },
      "execution_count": null,
      "outputs": []
    },
    {
      "cell_type": "code",
      "source": [
        "class MaxAndSkipEnv(gym.Wrapper):\n",
        "    def __init__(self, env=None, skip=4):\n",
        "        \"\"\"Return only every `skip`-th frame\"\"\"\n",
        "        super(MaxAndSkipEnv, self).__init__(env)\n",
        "        # most recent raw observations (for max pooling across time steps)\n",
        "        self._obs_buffer = collections.deque(maxlen=2)\n",
        "        self._skip = skip\n",
        "\n",
        "    def step(self, action):\n",
        "        total_reward = 0.0\n",
        "        done = None\n",
        "        for _ in range(self._skip):\n",
        "            obs, reward, done, info = self.env.step(action)\n",
        "            self._obs_buffer.append(obs)\n",
        "            total_reward += reward\n",
        "            if done:\n",
        "                break\n",
        "        max_frame = np.max(np.stack(self._obs_buffer), axis=0)\n",
        "        return max_frame, total_reward, done, info\n",
        "\n",
        "    def reset(self):\n",
        "        \"\"\"Clear past frame buffer and init to first obs\"\"\"\n",
        "        self._obs_buffer.clear()\n",
        "        obs = self.env.reset()\n",
        "        self._obs_buffer.append(obs)\n",
        "        return obs\n",
        "\n",
        "\n",
        "class ProcessFrame84(gym.ObservationWrapper):\n",
        "    \"\"\"\n",
        "    Downsamples image to 84x84\n",
        "    Greyscales image\n",
        "\n",
        "    Returns numpy array\n",
        "    \"\"\"\n",
        "    def __init__(self, env=None):\n",
        "        super(ProcessFrame84, self).__init__(env)\n",
        "        self.observation_space = gym.spaces.Box(low=0, high=255, shape=(84, 84, 1), dtype=np.uint8)\n",
        "\n",
        "    def observation(self, obs):\n",
        "        return ProcessFrame84.process(obs)\n",
        "\n",
        "    @staticmethod\n",
        "    def process(frame):\n",
        "        if frame.size == 240 * 256 * 3:\n",
        "            img = np.reshape(frame, [240, 256, 3]).astype(np.float32)\n",
        "        else:\n",
        "            assert False, \"Unknown resolution.\"\n",
        "        img = img[:, :, 0] * 0.299 + img[:, :, 1] * 0.587 + img[:, :, 2] * 0.114\n",
        "        resized_screen = cv2.resize(img, (84, 110), interpolation=cv2.INTER_AREA)\n",
        "        x_t = resized_screen[18:102, :]\n",
        "        x_t = np.reshape(x_t, [84, 84, 1])\n",
        "        return x_t.astype(np.uint8)\n",
        "\n",
        "\n",
        "class ImageToPyTorch(gym.ObservationWrapper):\n",
        "    def __init__(self, env):\n",
        "        super(ImageToPyTorch, self).__init__(env)\n",
        "        old_shape = self.observation_space.shape\n",
        "        self.observation_space = gym.spaces.Box(low=0.0, high=1.0, shape=(old_shape[-1], old_shape[0], old_shape[1]),\n",
        "                                                dtype=np.float32)\n",
        "\n",
        "    def observation(self, observation):\n",
        "        return np.moveaxis(observation, 2, 0)\n",
        "\n",
        "\n",
        "class ScaledFloatFrame(gym.ObservationWrapper):\n",
        "    \"\"\"Normalize pixel values in frame --> 0 to 1\"\"\"\n",
        "    def observation(self, obs):\n",
        "        return np.array(obs).astype(np.float32) / 255.0\n",
        "\n",
        "\n",
        "class BufferWrapper(gym.ObservationWrapper):\n",
        "    def __init__(self, env, n_steps, dtype=np.float32):\n",
        "        super(BufferWrapper, self).__init__(env)\n",
        "        self.dtype = dtype\n",
        "        old_space = env.observation_space\n",
        "        self.observation_space = gym.spaces.Box(old_space.low.repeat(n_steps, axis=0),\n",
        "                                                old_space.high.repeat(n_steps, axis=0), dtype=dtype)\n",
        "\n",
        "    def reset(self):\n",
        "        self.buffer = np.zeros_like(self.observation_space.low, dtype=self.dtype)\n",
        "        return self.observation(self.env.reset())\n",
        "\n",
        "    def observation(self, observation):\n",
        "        self.buffer[:-1] = self.buffer[1:]\n",
        "        self.buffer[-1] = observation\n",
        "        return self.buffer\n",
        "\n",
        "\n",
        "def make_env(env):\n",
        "    env = MaxAndSkipEnv(env)\n",
        "    env = ProcessFrame84(env)\n",
        "    env = ImageToPyTorch(env)\n",
        "    env = BufferWrapper(env, 4)\n",
        "    env = ScaledFloatFrame(env)\n",
        "    return JoypadSpace(env, RIGHT_ONLY)"
      ],
      "metadata": {
        "id": "hPQ7ofxPojXb"
      },
      "execution_count": 4,
      "outputs": []
    },
    {
      "cell_type": "code",
      "source": [
        "def show_state(env, ep=0, info=\"\"):\n",
        "    plt.figure(3)\n",
        "    plt.clf()\n",
        "    plt.imshow(env.render(mode='rgb_array'))\n",
        "    plt.title(\"Episode: %d %s\" % (ep, info))\n",
        "    plt.axis('off')\n",
        "\n",
        "    display.display(plt.gcf())\n",
        "    display.clear_output(wait=True)\n",
        "    time.sleep(0.1)\n",
        "\n",
        "    # display.clear_output(wait=True)\n",
        "    # display.display(pl.gcf())"
      ],
      "metadata": {
        "id": "Jxkcm5VXok7D"
      },
      "execution_count": 5,
      "outputs": []
    },
    {
      "cell_type": "code",
      "source": [
        "env = gym_super_mario_bros.make('SuperMarioBros-1-1-v0')\n",
        "env = make_env(env)  # Wraps the environment so that frames are grayscale \n",
        "obs = env.reset()"
      ],
      "metadata": {
        "id": "lHuEMONaomtj"
      },
      "execution_count": 6,
      "outputs": []
    },
    {
      "cell_type": "code",
      "source": [
        "class Q_Agent():\n",
        "\n",
        "    def __init__(self):\n",
        "        \"\"\" initializing the class\"\"\"\n",
        "        self.state_a_dict = {}\n",
        "        self.Q_target = {}\n",
        "        self.copy_steps = 10\n",
        "        self.exploreP = 1\n",
        "        self.obs_vec = []\n",
        "        self.gamma = 0.99\n",
        "        self.alpha = 0.01\n",
        "        \n",
        "    def obs_to_state(self, obs):\n",
        "        state = -1\n",
        "        for i in range(len(self.obs_vec)):\n",
        "            if((obs == self.obs_vec[i]).all()):\n",
        "                state = i\n",
        "                break\n",
        "        if(state == -1):\n",
        "            state = len(self.obs_vec)\n",
        "            self.obs_vec.append(obs)\n",
        "        return state\n",
        "\n",
        "    def take_action(self, state):\n",
        "        Q_a = self.get_Qval(state)\n",
        "        if(np.random.rand() > self.exploreP):\n",
        "            \"\"\" exploitation\"\"\"\n",
        "            action = np.argmax(Q_a)\n",
        "        else:\n",
        "            \"\"\" exploration\"\"\"\n",
        "            action = env.action_space.sample()\n",
        "        self.exploreP *= 0.99\n",
        "        return action\n",
        "    \n",
        "    def get_Qval(self, state):\n",
        "        if(state not in self.state_a_dict):\n",
        "            self.state_a_dict[state] = np.random.rand(5,1)\n",
        "        return self.state_a_dict[state]\n",
        "\n",
        "    def get_Qtarget(self, state):\n",
        "        if(state not in self.Q_target):\n",
        "            self.Q_target[state] = np.random.rand(5,1)\n",
        "        return self.Q_target[state]\n",
        "    \n",
        "    def update_Qval(self, state, action, reward, next_state, terminal):\n",
        "        if terminal:\n",
        "            TD_target = reward\n",
        "        else:\n",
        "            TD_target = reward + self.gamma*np.amax(self.get_Qtarget(next_state))\n",
        "        \n",
        "        td_error = TD_target - self.get_Qval(state)[action]\n",
        "        self.state_a_dict[state][action] += self.alpha*td_error\n",
        "    \n",
        "    def copy(self):\n",
        "        self.Q_target = self.state_a_dict.copy()"
      ],
      "metadata": {
        "id": "dcJTstAdoozc"
      },
      "execution_count": 7,
      "outputs": []
    },
    {
      "cell_type": "code",
      "source": [
        "num_episodes = 2000\n",
        "Mario = Q_Agent()\n",
        "rewards = []\n",
        "num_steps = 0\n",
        "for i_episode in range(num_episodes):\n",
        "    obs = env.reset()\n",
        "    state = Mario.obs_to_state(obs)\n",
        "    episode_reward = 0\n",
        "    while True:\n",
        "        action = Mario.take_action(state)\n",
        "        next_obs, reward, terminal, _ = env.step(action)\n",
        "        episode_reward += reward\n",
        "\n",
        "        num_steps += 1\n",
        "        if(num_steps % Mario.copy_steps == 0):\n",
        "            Mario.copy()\n",
        "\n",
        "        next_state = Mario.obs_to_state(next_obs)\n",
        "\n",
        "        Mario.update_Qval(state, action, reward, next_state, terminal)\n",
        "        state = next_state\n",
        "\n",
        "        if terminal:\n",
        "            break\n",
        "    rewards.append(episode_reward)\n",
        "    print(\"Total reward after episode {} is {}\".format(i_episode+1, episode_reward))\n",
        "    #Saving the reward array and Q-table every 10 episodes\n",
        "    if(i_episode%10 == 0):\n",
        "      np.save('/content/drive/MyDrive/Mario RL/dqlrewards.npy',rewards)"
      ],
      "metadata": {
        "id": "HCZ3vISSp1eF"
      },
      "execution_count": null,
      "outputs": []
    },
    {
      "cell_type": "code",
      "source": [
        "import numpy as np\n",
        "import matplotlib.pyplot as plt"
      ],
      "metadata": {
        "id": "tvsDQ7Vr9aKd"
      },
      "execution_count": 3,
      "outputs": []
    },
    {
      "cell_type": "code",
      "source": [
        "rewards = np.load('/content/drive/MyDrive/Mario RL/dqlrewards.npy')\n",
        "\n",
        "plt.title(\"Episodes trained vs. Average Rewards (per 5 eps)\")\n",
        "plt.plot(np.convolve(rewards, np.ones((5,))/5, mode=\"valid\").tolist())\n",
        "plt.show()"
      ],
      "metadata": {
        "id": "W5FZZAhcqvAa",
        "colab": {
          "base_uri": "https://localhost:8080/",
          "height": 281
        },
        "outputId": "cb68611b-b4b5-4623-9f21-6482f5f0c724"
      },
      "execution_count": 4,
      "outputs": [
        {
          "output_type": "display_data",
          "data": {
            "text/plain": [
              "<Figure size 432x288 with 1 Axes>"
            ],
            "image/png": "[encoded data removed]"
          },
          "metadata": {
            "needs_background": "light"
          }
        }
      ]
    },
    {
      "cell_type": "code",
      "source": [
        ""
      ],
      "metadata": {
        "id": "4xDo6s039VoE"
      },
      "execution_count": null,
      "outputs": []
    }
  ]
}